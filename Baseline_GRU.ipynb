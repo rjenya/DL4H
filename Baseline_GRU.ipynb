{
 "cells": [
  {
   "cell_type": "code",
   "execution_count": 15,
   "id": "397fc552",
   "metadata": {},
   "outputs": [],
   "source": [
    "from gensim.models import Word2Vec\n",
    "import os\n",
    "import random\n",
    "import numpy as np\n",
    "import torch\n",
    "import torch.nn as nn\n",
    "import torch.nn.functional as F\n",
    "import pandas as pd\n",
    "\n",
    "DATA_PATH = \"./resource\"\n",
    "# set seed\n",
    "seed = 24\n",
    "random.seed(seed)\n",
    "np.random.seed(seed)\n",
    "torch.manual_seed(seed)\n",
    "os.environ[\"PYTHONHASHSEED\"] = str(seed)\n"
   ]
  },
  {
   "cell_type": "code",
   "execution_count": 16,
   "id": "840dbb54",
   "metadata": {},
   "outputs": [],
   "source": [
    "def read_csv(filename):\n",
    "    \"\"\" reading csv from filename \"\"\"\n",
    "    data = []\n",
    "    with open(filename, \"r\") as file:\n",
    "        csv_reader = csv.DictReader(file, delimiter=',')\n",
    "        for row in csv_reader:\n",
    "            data.append(row)\n",
    "    header = list(data[0].keys())\n",
    "    return header, data\n",
    "\n",
    "\n",
    "def to_one_hot(label, num_class):\n",
    "    \"\"\" convert to one hot label \"\"\"\n",
    "    one_hot_label = [0] * num_class\n",
    "    for i in label:\n",
    "        one_hot_label[i] = 1\n",
    "    return one_hot_label"
   ]
  },
  {
   "cell_type": "code",
   "execution_count": 17,
   "id": "7da1c8e0",
   "metadata": {},
   "outputs": [],
   "source": [
    "import pickle\n",
    "import numpy as np\n",
    "\n",
    "def save_pkl(path, obj):\n",
    "  with open(path, 'wb') as f:\n",
    "    pickle.dump(obj, f)\n",
    "    print(\" [*] save %s\" % path)\n",
    "\n",
    "def load_pkl(path):\n",
    "  with open(path,'rb') as f:\n",
    "    obj = pickle.load(f)\n",
    "    print(\" [*] load %s\" % path)\n",
    "    return obj\n",
    "\n",
    "def save_npy(path, obj):\n",
    "  np.save(path, obj)\n",
    "  print(\" [*] save %s\" % path)\n",
    "\n",
    "def load_npy(path):\n",
    "  obj = np.load(path)\n",
    "  print(\" [*] load %s\" % path)\n",
    "  return obj"
   ]
  },
  {
   "cell_type": "code",
   "execution_count": 21,
   "id": "7a72cc82",
   "metadata": {},
   "outputs": [
    {
     "name": "stdout",
     "output_type": "stream",
     "text": [
      " [*] load ./resource/vocab.pkl\n"
     ]
    },
    {
     "data": {
      "text/plain": [
       "490"
      ]
     },
     "execution_count": 21,
     "metadata": {},
     "output_type": "execute_result"
    }
   ],
   "source": [
    "vocab = load_pkl(DATA_PATH + '/vocab.pkl')\n",
    "TOTAL_NUM_CODES = len(vocab)\n",
    "TOTAL_NUM_CODES"
   ]
  },
  {
   "cell_type": "code",
   "execution_count": 22,
   "id": "8b231b86",
   "metadata": {},
   "outputs": [],
   "source": [
    "from torch.utils.data import Dataset\n",
    "\n",
    "class CustomDataset(Dataset):\n",
    "    \n",
    "    def __init__(self):\n",
    "        self._data = load_pkl(DATA_PATH + '/data.pkl')\n",
    "        self._label = load_pkl(DATA_PATH + '/label.pkl')\n",
    "\n",
    "\n",
    "    \n",
    "    def __len__(self):\n",
    "        \"\"\" return the number of samples (i.e. patients). \"\"\"\n",
    "        return len(self._data)\n",
    "    \n",
    "    def __getitem__(self, index):\n",
    "        data = self._data[index]\n",
    "        label = self._label[index]\n",
    "        x = torch.tensor([to_one_hot(visit, TOTAL_NUM_CODES) for visit in data], dtype=torch.float32)\n",
    "        y = torch.tensor(label, dtype=torch.float32)\n",
    "        return x, y"
   ]
  },
  {
   "cell_type": "code",
   "execution_count": 23,
   "id": "3b3f1f16",
   "metadata": {},
   "outputs": [
    {
     "name": "stdout",
     "output_type": "stream",
     "text": [
      " [*] load ./resource/data.pkl\n",
      " [*] load ./resource/label.pkl\n",
      "Size of dataset: 3000\n"
     ]
    }
   ],
   "source": [
    "dataset = CustomDataset()\n",
    "print('Size of dataset:', len(dataset))"
   ]
  },
  {
   "cell_type": "code",
   "execution_count": 24,
   "id": "92785b3b",
   "metadata": {},
   "outputs": [],
   "source": [
    "def collate_fn(data):\n",
    "\n",
    "    sequences, labels = zip(*data)\n",
    "\n",
    "    \n",
    "    num_patients = len(sequences)\n",
    "    num_visits = [patient.shape[0] for patient in sequences]\n",
    "    total_num_codes = sequences[0].shape[1]\n",
    "\n",
    "    max_num_visits = max(num_visits)\n",
    "    #max_num_visits = MAX_LENGTH\n",
    "    \n",
    "    x = torch.zeros((num_patients, max_num_visits, total_num_codes), dtype=torch.float)\n",
    "    y = torch.zeros((num_patients, max_num_visits), dtype=torch.float)\n",
    "    #masks = torch.zeros((num_patients, max_num_visits, total_num_codes), dtype=torch.bool)\n",
    "    l = torch.zeros((num_patients), dtype=torch.long)\n",
    "\n",
    "    for i_patient, patient in enumerate(sequences):\n",
    "        for j_visit, visit in enumerate(patient):\n",
    "            x[i_patient,j_visit,:] = visit\n",
    "            y[i_patient,j_visit] = labels[i_patient][j_visit]\n",
    "        l[i_patient] = len(patient)\n",
    " \n",
    "    return x, y,l"
   ]
  },
  {
   "cell_type": "code",
   "execution_count": 25,
   "id": "c76d7a91",
   "metadata": {},
   "outputs": [
    {
     "name": "stdout",
     "output_type": "stream",
     "text": [
      "Length of train dataset: 2100\n",
      "Length of test dataset: 900\n"
     ]
    }
   ],
   "source": [
    "from torch.utils.data.dataset import random_split\n",
    "\n",
    "\n",
    "split = int(len(dataset)*0.7)\n",
    "\n",
    "lengths = [split, len(dataset) - split]\n",
    "train_dataset, test_dataset = random_split(dataset, lengths)\n",
    "\n",
    "print(\"Length of train dataset:\", len(train_dataset))\n",
    "print(\"Length of test dataset:\", len(test_dataset))"
   ]
  },
  {
   "cell_type": "code",
   "execution_count": 26,
   "id": "cad162e9",
   "metadata": {},
   "outputs": [
    {
     "name": "stdout",
     "output_type": "stream",
     "text": [
      "# of train batches: 33\n",
      "# of test batches: 15\n"
     ]
    }
   ],
   "source": [
    "from torch.utils.data import DataLoader\n",
    "\n",
    "# how many samples per batch to load\n",
    "batch_size = 64\n",
    "\n",
    "# prepare dataloaders\n",
    "train_loader = DataLoader(train_dataset, batch_size=batch_size,collate_fn=collate_fn, shuffle=True)\n",
    "test_loader = DataLoader(test_dataset, batch_size=batch_size,collate_fn=collate_fn)\n",
    "\n",
    "print(\"# of train batches:\", len(train_loader))\n",
    "print(\"# of test batches:\", len(test_loader))"
   ]
  },
  {
   "cell_type": "code",
   "execution_count": 27,
   "id": "d7deaf5f",
   "metadata": {},
   "outputs": [
    {
     "data": {
      "text/plain": [
       "GRUModel(\n",
       "  (rnn): GRU(490, 128, batch_first=True)\n",
       "  (l): Linear(in_features=128, out_features=1, bias=True)\n",
       "  (act): Sigmoid()\n",
       ")"
      ]
     },
     "execution_count": 27,
     "metadata": {},
     "output_type": "execute_result"
    }
   ],
   "source": [
    "N_HIDDEN = 128\n",
    "class GRUModel(nn.Module):\n",
    "    \n",
    "    def __init__(self):\n",
    "        super().__init__()\n",
    "        \n",
    "        self.rnn = nn.GRU(input_size = TOTAL_NUM_CODES,hidden_size = N_HIDDEN, batch_first=True)\n",
    "        self.l = nn.Linear(N_HIDDEN,1)\n",
    "        self.act = nn.Sigmoid()\n",
    "    \n",
    "    def forward(self, x):\n",
    "         \n",
    "        hs,_ = self.rnn(x)\n",
    "        o = self.act(self.l(hs))\n",
    "        o = o.squeeze(dim = -1)\n",
    "        return o\n",
    "    \n",
    "\n",
    "# load the model here\n",
    "model = GRUModel()\n",
    "model"
   ]
  },
  {
   "cell_type": "code",
   "execution_count": 28,
   "id": "e3ce0761",
   "metadata": {},
   "outputs": [],
   "source": [
    "criterion = nn.BCELoss()\n",
    "LEARNING_RATE = 0.001\n",
    "optimizer = torch.optim.Adam(model.parameters(), lr=LEARNING_RATE)"
   ]
  },
  {
   "cell_type": "code",
   "execution_count": 29,
   "id": "5e05b398",
   "metadata": {},
   "outputs": [],
   "source": [
    "from sklearn.metrics import *\n",
    "\n",
    "#input: Y_score,Y_pred,Y_true\n",
    "#output: accuracy, auc, precision, recall, f1-score\n",
    "def classification_metrics(Y_score, Y_pred, Y_true):\n",
    "    acc, auc, precision, recall, f1score = accuracy_score(Y_true, Y_pred), \\\n",
    "                                           roc_auc_score(Y_true, Y_score), \\\n",
    "                                           precision_score(Y_true, Y_pred), \\\n",
    "                                           recall_score(Y_true, Y_pred), \\\n",
    "                                           f1_score(Y_true, Y_pred)\n",
    "    return acc, auc, precision, recall, f1score\n",
    "\n",
    "\n",
    "#input: model, loader\n",
    "def evaluate(model, loader):\n",
    "    model.eval()\n",
    "    all_y_true = torch.LongTensor()\n",
    "    all_y_pred = torch.LongTensor()\n",
    "    all_y_score = torch.FloatTensor()\n",
    "    for x, y,l in loader:\n",
    "        # pass the input through the model\n",
    "        y_hat = model(x)\n",
    "        y_pred = (y_hat > 0.5).type(torch.float)\n",
    "        for i in range(y.shape[0]):\n",
    "            all_y_true = torch.cat((all_y_true, y[i,:l[i]].to('cpu').flatten()), dim=0)\n",
    "            all_y_pred = torch.cat((all_y_pred,  y_pred[i,:l[i]].to('cpu').flatten()), dim=0)\n",
    "            all_y_score = torch.cat((all_y_score,  y_hat[i,:l[i]].to('cpu').flatten()), dim=0)\n",
    "        \n",
    "    acc, auc, precision, recall, f1 = classification_metrics(all_y_score.detach().numpy(), \n",
    "                                                             all_y_pred.detach().numpy(), \n",
    "                                                             all_y_true.detach().numpy())\n",
    "    print(f\"acc: {acc:.3f}, auc: {auc:.3f}, precision: {precision:.3f}, recall: {recall:.3f}, f1: {f1:.3f}\")\n",
    "    return"
   ]
  },
  {
   "cell_type": "code",
   "execution_count": 30,
   "id": "ed134f54",
   "metadata": {},
   "outputs": [
    {
     "name": "stdout",
     "output_type": "stream",
     "text": [
      "Epoch: 1 \tTraining Loss: 0.451584\n",
      "acc: 0.773, auc: 0.640, precision: 0.850, recall: 0.004, f1: 0.008\n",
      "acc: 0.775, auc: 0.644, precision: 0.861, recall: 0.004, f1: 0.008\n",
      "Epoch: 2 \tTraining Loss: 0.266927\n",
      "acc: 0.781, auc: 0.660, precision: 0.550, recall: 0.196, f1: 0.289\n",
      "acc: 0.780, auc: 0.669, precision: 0.531, recall: 0.201, f1: 0.292\n",
      "Epoch: 3 \tTraining Loss: 0.221783\n",
      "acc: 0.796, auc: 0.723, precision: 0.657, recall: 0.214, f1: 0.323\n",
      "acc: 0.794, auc: 0.725, precision: 0.626, recall: 0.220, f1: 0.326\n",
      "Epoch: 4 \tTraining Loss: 0.201023\n",
      "acc: 0.805, auc: 0.756, precision: 0.738, recall: 0.224, f1: 0.344\n",
      "acc: 0.804, auc: 0.751, precision: 0.710, recall: 0.224, f1: 0.341\n",
      "Epoch: 5 \tTraining Loss: 0.186731\n",
      "acc: 0.820, auc: 0.780, precision: 0.757, recall: 0.309, f1: 0.439\n",
      "acc: 0.819, auc: 0.774, precision: 0.736, recall: 0.306, f1: 0.432\n",
      "Epoch: 6 \tTraining Loss: 0.181649\n",
      "acc: 0.824, auc: 0.785, precision: 0.774, recall: 0.321, f1: 0.454\n",
      "acc: 0.821, auc: 0.778, precision: 0.741, recall: 0.314, f1: 0.442\n"
     ]
    }
   ],
   "source": [
    "n_epochs = 6\n",
    "\n",
    "model.train()\n",
    "\n",
    "for epoch in range(n_epochs):\n",
    "    \n",
    "    train_loss = 0\n",
    "    for x, y,l in train_loader:\n",
    "        optimizer.zero_grad()\n",
    "        y_hat = model(x)\n",
    "        loss = criterion(y_hat, y)\n",
    "        loss.backward()\n",
    "        optimizer.step()\n",
    "        train_loss += loss.item()\n",
    "        \n",
    "    train_loss = train_loss / len(train_loader)\n",
    "    print('Epoch: {} \\tTraining Loss: {:.6f}'.format(epoch+1, train_loss))\n",
    "    evaluate(model, train_loader)\n",
    "    evaluate(model, test_loader)"
   ]
  },
  {
   "cell_type": "code",
   "execution_count": null,
   "id": "6962c488",
   "metadata": {},
   "outputs": [],
   "source": []
  }
 ],
 "metadata": {
  "kernelspec": {
   "display_name": "Python 3 (ipykernel)",
   "language": "python",
   "name": "python3"
  },
  "language_info": {
   "codemirror_mode": {
    "name": "ipython",
    "version": 3
   },
   "file_extension": ".py",
   "mimetype": "text/x-python",
   "name": "python",
   "nbconvert_exporter": "python",
   "pygments_lexer": "ipython3",
   "version": "3.9.6"
  }
 },
 "nbformat": 4,
 "nbformat_minor": 5
}
