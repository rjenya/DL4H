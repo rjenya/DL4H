{
 "cells": [
  {
   "cell_type": "code",
   "execution_count": 7,
   "id": "f1125a4c",
   "metadata": {},
   "outputs": [],
   "source": [
    "DATA_PATH = \"./resource\"\n",
    "input_file = DATA_PATH + '/S1_File.txt'\n",
    "vocab_pkl = DATA_PATH + '/vocab.pkl'\n",
    "data_pkl = DATA_PATH + '/data.pkl'\n",
    "label_pkl = DATA_PATH + '/data.pkl'\n"
   ]
  },
  {
   "cell_type": "code",
   "execution_count": 21,
   "id": "f85b88f2",
   "metadata": {},
   "outputs": [],
   "source": [
    "import pickle\n",
    "import numpy as np\n",
    "\n",
    "def save_pkl(path, obj):\n",
    "  with open(path, 'wb') as f:\n",
    "    pickle.dump(obj, f)\n",
    "    print(\" [*] save %s\" % path)"
   ]
  },
  {
   "cell_type": "code",
   "execution_count": 24,
   "id": "ced76b77",
   "metadata": {},
   "outputs": [
    {
     "name": "stdout",
     "output_type": "stream",
     "text": [
      " [*] save ./resource/vocab.pkl\n"
     ]
    }
   ],
   "source": [
    "import numpy as np\n",
    "import pandas as pd\n",
    "\n",
    "rare_word = 100\n",
    "\n",
    "df = pd.read_csv(input_file, sep='\\t', header=0)\n",
    "hist = df.groupby('DX_GROUP_DESCRIPTION').size().to_frame('SIZE').reset_index()\n",
    "\n",
    "count = hist.groupby('SIZE').size().to_frame('COUNT').reset_index()\n",
    "\n",
    "# filter\n",
    "hist = hist[hist['SIZE'] > rare_word]\n",
    "vocab = hist.sort_values(by='SIZE').reset_index()['DX_GROUP_DESCRIPTION']\n",
    "\n",
    "wdict = vocab.to_dict()\n",
    "word_to_index = {v: k for k, v in wdict.items()}\n",
    "save_pkl(vocab_pkl, word_to_index)"
   ]
  },
  {
   "cell_type": "code",
   "execution_count": 26,
   "id": "e6ba86fd",
   "metadata": {},
   "outputs": [],
   "source": [
    "def convert_format(word_to_index, events):\n",
    "    # order by PID, DAY_ID\n",
    "    with open(input_file, mode='r') as f:\n",
    "        # header\n",
    "        header = f.readline().strip().split('\\t')\n",
    "        #print(header)\n",
    "        pos = {}\n",
    "        for key, value in enumerate(header):\n",
    "            pos[value] = key\n",
    "        #print(pos)\n",
    "\n",
    "        docs = []\n",
    "        doc = []\n",
    "        sent = []\n",
    "        labels = []\n",
    "        label = []\n",
    "\n",
    "        # init\n",
    "        line = f.readline()\n",
    "        tokens = line.strip().split('\\t')\n",
    "        pid = tokens[pos['PID']]\n",
    "        day_id = tokens[pos['DAY_ID']]\n",
    "        label.append(tag(events, pid, day_id))\n",
    "\n",
    "        while line != '':\n",
    "            tokens = line.strip().split('\\t')\n",
    "            c_pid = tokens[pos['PID']]\n",
    "            c_day_id = tokens[pos['DAY_ID']]\n",
    "\n",
    "            # closure\n",
    "            if c_pid != pid:\n",
    "                doc.append(sent)\n",
    "                docs.append(doc)\n",
    "                sent = []\n",
    "                doc = []\n",
    "                pid = c_pid\n",
    "                day_id = c_day_id\n",
    "                labels.append(label)\n",
    "                label = [tag(events, pid, day_id)]\n",
    "            else:\n",
    "                if c_day_id != day_id:\n",
    "                    doc.append(sent)\n",
    "                    sent = []\n",
    "                    day_id = c_day_id\n",
    "                    label.append(tag(events, pid, day_id))\n",
    "\n",
    "            word = tokens[pos['DX_GROUP_DESCRIPTION']]\n",
    "            try:\n",
    "                sent.append(word_to_index[word])\n",
    "            except KeyError:\n",
    "                #sent.append(unknown)\n",
    "                pass\n",
    "\n",
    "            line = f.readline()\n",
    "\n",
    "        # closure\n",
    "        doc.append(sent)\n",
    "        docs.append(doc)\n",
    "        labels.append(label)\n",
    "\n",
    "    return docs, labels\n",
    "\n",
    "def extract_events():\n",
    "    # extract event \"INPATIENT HOSPITAL\"\n",
    "    target_event = 'INPATIENT HOSPITAL'\n",
    "\n",
    "    df = pd.read_csv(input_file, sep='\\t', header=0)\n",
    "    events = df[df['SERVICE_LOCATION'] == target_event]\n",
    "\n",
    "    events = events.groupby(['PID', 'DAY_ID', 'SERVICE_LOCATION']).size().to_frame('COUNT').reset_index()\\\n",
    "        .sort_values(by=['PID', 'DAY_ID'], ascending=True)\\\n",
    "        .set_index('PID')\n",
    "\n",
    "    return events\n",
    "\n",
    "\n",
    "def tag(events, pid, day_id):\n",
    "    return 1 if tag_logic(events, pid, day_id) else 0\n",
    "\n",
    "\n",
    "def tag_logic(events, pid, day_id):\n",
    "    try:\n",
    "        patient = events.loc[int(pid)]\n",
    "\n",
    "        # test whether have events within 30 days\n",
    "        if isinstance(patient, pd.Series):\n",
    "            return (int(day_id) <= patient.DAY_ID) & (patient.DAY_ID < int(day_id) + 30)\n",
    "\n",
    "        return patient.loc[(int(day_id) <= patient.DAY_ID) & (patient.DAY_ID < int(day_id) + 30)].shape[0] > 0\n",
    "    except KeyError:\n",
    "        # the label is not in the [index]\n",
    "        return False\n"
   ]
  },
  {
   "cell_type": "code",
   "execution_count": 27,
   "id": "66412eb3",
   "metadata": {},
   "outputs": [
    {
     "name": "stdout",
     "output_type": "stream",
     "text": [
      " [*] save ./resource/data.pkl\n",
      " [*] save ./resource/label.pkl\n"
     ]
    }
   ],
   "source": [
    "events = extract_events()\n",
    "\n",
    "docs, labels = convert_format(word_to_index, events)\n",
    "save_pkl('./resource/data.pkl', docs)\n",
    "save_pkl('./resource/label.pkl', labels)\n"
   ]
  },
  {
   "cell_type": "code",
   "execution_count": null,
   "id": "ab37cd9c",
   "metadata": {},
   "outputs": [],
   "source": []
  }
 ],
 "metadata": {
  "kernelspec": {
   "display_name": "Python 3 (ipykernel)",
   "language": "python",
   "name": "python3"
  },
  "language_info": {
   "codemirror_mode": {
    "name": "ipython",
    "version": 3
   },
   "file_extension": ".py",
   "mimetype": "text/x-python",
   "name": "python",
   "nbconvert_exporter": "python",
   "pygments_lexer": "ipython3",
   "version": "3.9.6"
  }
 },
 "nbformat": 4,
 "nbformat_minor": 5
}
